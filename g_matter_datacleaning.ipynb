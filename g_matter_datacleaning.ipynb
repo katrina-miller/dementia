{
 "cells": [
  {
   "cell_type": "markdown",
   "metadata": {},
   "source": [
    "<h1>Capstone Data Cleaning Notebook for Grey Matter Brain Cells</h1>"
   ]
  },
  {
   "cell_type": "markdown",
   "metadata": {},
   "source": [
    "Import Libraries"
   ]
  },
  {
   "cell_type": "code",
   "execution_count": 124,
   "metadata": {},
   "outputs": [],
   "source": [
    "import pandas as pd\n",
    "import numpy as np"
   ]
  },
  {
   "cell_type": "markdown",
   "metadata": {},
   "source": [
    "Import Data"
   ]
  },
  {
   "cell_type": "code",
   "execution_count": 125,
   "metadata": {},
   "outputs": [],
   "source": [
    "df = pd.read_csv(\"../capstone/clean_data.csv\")\n",
    "ppq2 = pd.read_csv(\"ProteinAndPathologyQuantifications.csv\")"
   ]
  },
  {
   "cell_type": "markdown",
   "metadata": {},
   "source": [
    "Replace Column Title in PPQ for Future Merge"
   ]
  },
  {
   "cell_type": "code",
   "execution_count": 126,
   "metadata": {},
   "outputs": [],
   "source": [
    "ppq2.rename(columns={\"donor_name\" : \"name\"}, inplace = True)\n",
    "ppq = ppq2[[\"name\", \"structure_acronym\", 'ab42_pg_per_mg', 'ihc_at8', 'ab40_pg_per_mg', 'ab42_over_ab40_ratio', 'ptau_ng_per_mg', 'ptau_ng_per_mg']]"
   ]
  },
  {
   "cell_type": "markdown",
   "metadata": {},
   "source": [
    "Merge PPQ and DF Dataframes"
   ]
  },
  {
   "cell_type": "code",
   "execution_count": 127,
   "metadata": {},
   "outputs": [],
   "source": [
    "d = pd.merge(df, ppq, on = 'name', how = 'right')"
   ]
  },
  {
   "cell_type": "markdown",
   "metadata": {},
   "source": [
    "Filter Dataset to Grey Matter Brain Samples, Drop Duplicate Samples"
   ]
  },
  {
   "cell_type": "code",
   "execution_count": 128,
   "metadata": {},
   "outputs": [],
   "source": [
    "df = d[(d[\"structure_acronym\"]== 'PCx') | (d[\"structure_acronym\"]== 'TCx')].drop_duplicates(subset = \"donor_id\", keep = 'first')           "
   ]
  },
  {
   "cell_type": "markdown",
   "metadata": {},
   "source": [
    "Verify Absence of NaN's and/or Drop Null Values"
   ]
  },
  {
   "cell_type": "code",
   "execution_count": 129,
   "metadata": {},
   "outputs": [],
   "source": [
    "df = df.dropna(axis = 0, how= \"any\")"
   ]
  },
  {
   "cell_type": "code",
   "execution_count": 130,
   "metadata": {},
   "outputs": [],
   "source": [
    "# NaN_list = []\n",
    "# something_is_wrong_here = {}\n",
    "# for column in df:\n",
    "#     for idx, row in enumerate(column):\n",
    "#         try: \n",
    "#             if (df[column]).isnull().sum() > 0:\n",
    "#                 if idx not in NaN_list:\n",
    "#                     NaN_list.append(idx)\n",
    "#         except: \n",
    "#             something_is_wrong_here.update({column : idx})\n",
    "\n",
    "# if len(NaN_list) > 0:\n",
    "#     print(\"There's a pesky NaN -> {}\".format(NaN_list))\n",
    "# elif (len(NaN_dict) < 1 & len(something_is_wrong_here)) < 1: \n",
    "#     print(\"Nary a NaN in sight!\")\n",
    "# elif len(something_is_wrong_here) > 0: \n",
    "#     print(\"Something is wrong here -> {}\".format(something_is_wrong_here))\n",
    "# else:\n",
    "#     print(\"Something went wrong.\")\n",
    "    "
   ]
  },
  {
   "cell_type": "code",
   "execution_count": 131,
   "metadata": {},
   "outputs": [],
   "source": [
    "df.to_csv(\"greymatter.csv\", index = False)"
   ]
  },
  {
   "cell_type": "code",
   "execution_count": null,
   "metadata": {},
   "outputs": [],
   "source": []
  }
 ],
 "metadata": {
  "kernelspec": {
   "display_name": "Python 3",
   "language": "python",
   "name": "python3"
  },
  "language_info": {
   "codemirror_mode": {
    "name": "ipython",
    "version": 3
   },
   "file_extension": ".py",
   "mimetype": "text/x-python",
   "name": "python",
   "nbconvert_exporter": "python",
   "pygments_lexer": "ipython3",
   "version": "3.6.5"
  }
 },
 "nbformat": 4,
 "nbformat_minor": 2
}
