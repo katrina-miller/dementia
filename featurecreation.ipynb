{
 "cells": [
  {
   "cell_type": "markdown",
   "metadata": {},
   "source": [
    "<h1>Capstone Feature Creation Notebook</h1>"
   ]
  },
  {
   "cell_type": "markdown",
   "metadata": {},
   "source": [
    "Import Libraries"
   ]
  },
  {
   "cell_type": "code",
   "execution_count": 560,
   "metadata": {},
   "outputs": [],
   "source": [
    "import pandas as pd\n",
    "import numpy as np\n",
    "import matplotlib.pyplot as plt\n",
    "import seaborn as sns\n",
    "from sklearn.model_selection import train_test_split\n",
    "from sklearn.preprocessing import StandardScaler\n",
    "from keras.models import Sequential\n",
    "from keras.layers import Dense, Dropout\n",
    "from keras import regularizers\n",
    "from sklearn.linear_model import LogisticRegression, LinearRegression\n",
    "from sklearn.decomposition import PCA\n",
    "%matplotlib inline"
   ]
  },
  {
   "cell_type": "markdown",
   "metadata": {},
   "source": [
    "Import Data"
   ]
  },
  {
   "cell_type": "code",
   "execution_count": 561,
   "metadata": {},
   "outputs": [],
   "source": [
    "df = pd.read_csv(\"../capstone/clean_data.csv\")\n",
    "try:\n",
    "    df.drop(\"Unnamed: 0\", axis = 1, inplace = True)\n",
    "except:\n",
    "    pass\n",
    "ppq = pd.read_csv(\"../capstone/ProteinAndPathologyQuantifications.csv\")\n",
    "try:\n",
    "    ppq.drop(\"Unnamed: 0\", axis = 1, inplace = True)\n",
    "except:\n",
    "    pass\n",
    "grey = pd.read_csv(\"../capstone/greymatter.csv\")\n",
    "try:\n",
    "    grey.drop(\"Unnamed: 0\", axis = 1, inplace = True)\n",
    "except:\n",
    "    pass\n",
    "white = pd.read_csv(\"../capstone/whitematter.csv\")\n",
    "try:\n",
    "    white.drop(\"Unnamed: 0\", axis = 1, inplace = True)\n",
    "except:\n",
    "    pass"
   ]
  },
  {
   "cell_type": "markdown",
   "metadata": {},
   "source": [
    "<h2>Grey Matter</h2>"
   ]
  },
  {
   "cell_type": "markdown",
   "metadata": {},
   "source": [
    "Create Gender Binary (No data on Trans* or Gender Non-Binary people made available)"
   ]
  },
  {
   "cell_type": "code",
   "execution_count": 562,
   "metadata": {},
   "outputs": [],
   "source": [
    "grey[\"gender\"] = grey.sex.map({\"F\" : 0, \"M\" : 1})"
   ]
  },
  {
   "cell_type": "markdown",
   "metadata": {},
   "source": [
    "Create Binary for Patients History of Ever Sustaining Traumatic Brain Injury"
   ]
  },
  {
   "cell_type": "code",
   "execution_count": 563,
   "metadata": {},
   "outputs": [],
   "source": [
    "grey[\"tbi_w_loc\"] = grey.ever_tbi_w_loc.map({\"N\" : 0, \"Y\" : 1})"
   ]
  },
  {
   "cell_type": "markdown",
   "metadata": {},
   "source": [
    "Create Binary for Race = White "
   ]
  },
  {
   "cell_type": "code",
   "execution_count": 564,
   "metadata": {},
   "outputs": [],
   "source": [
    "grey[\"white_binary\"] = grey.race.map({\"Non-white\" : 0, \"White\" : 1})"
   ]
  },
  {
   "cell_type": "markdown",
   "metadata": {},
   "source": [
    "Create Binary for Race = Hispanic"
   ]
  },
  {
   "cell_type": "code",
   "execution_count": 565,
   "metadata": {},
   "outputs": [],
   "source": [
    "grey[\"hispanic_binary\"] = grey.hispanic.map({\"Not Hispanic\" : 0, \"Hispanic\" : 1})"
   ]
  },
  {
   "cell_type": "markdown",
   "metadata": {},
   "source": [
    "Create Binary for apo_e4_allele Genetic Trait"
   ]
  },
  {
   "cell_type": "code",
   "execution_count": 566,
   "metadata": {},
   "outputs": [],
   "source": [
    "grey['apo_e4_allele_binary'] = grey.apo_e4_allele.map({\"N\" : 0, \"Y\" : 1})"
   ]
  },
  {
   "cell_type": "markdown",
   "metadata": {},
   "source": [
    "Change Age Categories into Integers"
   ]
  },
  {
   "cell_type": "code",
   "execution_count": 567,
   "metadata": {},
   "outputs": [],
   "source": [
    "grey[\"age\"] = grey.age.map({\"87\" : 87, \n",
    "                        '95-99' : 95,\n",
    "                        '85' : 85,\n",
    "                        '90-94' : 90,\n",
    "                        '100+' : 100,\n",
    "                        '78' : 78,\n",
    "                        '89' : 89,\n",
    "                        '83' : 83,\n",
    "                        '82' : 82,\n",
    "                        '77' : 77,\n",
    "                        '81' : 81,\n",
    "                        '88' : 88,\n",
    "                        '84' : 84,\n",
    "                        '86' : 86,\n",
    "                        '79' : 79,\n",
    "                        'NaN' : 0\n",
    "                      })"
   ]
  },
  {
   "cell_type": "markdown",
   "metadata": {},
   "source": [
    "Create Numerical Categories for Patient's Loss of Consciousness Decided by Length of Loss"
   ]
  },
  {
   "cell_type": "code",
   "execution_count": 568,
   "metadata": {},
   "outputs": [],
   "source": [
    "grey[\"loc_cats\"] = grey.longest_loc_duration.map({\"Unknown or N/A\" : 0, \n",
    "                                              '< 10 sec' : 1,\n",
    "                                              '10 sec - 1 min' : 2,\n",
    "                                              '1-2 min' : 3,\n",
    "                                              '3-5 min' : 4,\n",
    "                                              '6-9 min' : 5,\n",
    "                                              '10 min - 1 hr' : 6,\n",
    "                                              '> 1 hr' : 7\n",
    "                                             })"
   ]
  },
  {
   "cell_type": "markdown",
   "metadata": {},
   "source": [
    "Create Feature for Number of Years Since Patient's First Traumatic Brain Injury"
   ]
  },
  {
   "cell_type": "code",
   "execution_count": 569,
   "metadata": {},
   "outputs": [],
   "source": [
    "grey[\"years_since_first_tbi\"] = grey['age'] - grey['age_at_first_tbi']"
   ]
  },
  {
   "cell_type": "markdown",
   "metadata": {},
   "source": [
    "Create Binary for Dementia Diagnosis"
   ]
  },
  {
   "cell_type": "code",
   "execution_count": 570,
   "metadata": {},
   "outputs": [],
   "source": [
    "grey[\"dementia_binary\"] = grey.act_demented.map({\"No Dementia\" : 0, \"Dementia\" : 1})"
   ]
  },
  {
   "cell_type": "markdown",
   "metadata": {},
   "source": [
    "Verify No Null Values"
   ]
  },
  {
   "cell_type": "code",
   "execution_count": 571,
   "metadata": {},
   "outputs": [
    {
     "name": "stdout",
     "output_type": "stream",
     "text": [
      "Nary a NaN in sight!\n"
     ]
    }
   ],
   "source": [
    "#Verify that there's no NaN's\n",
    "NaN_dict = {}\n",
    "something_is_wrong_here = {}\n",
    "for column in df:\n",
    "    for idx, row in enumerate(column):\n",
    "        try: \n",
    "            if (df[column]).isnull().sum() > 0:\n",
    "                NaN_dict.update({\"column\" : \"idx\"})\n",
    "        except: \n",
    "            something_is_wrong_here.update({\"column\" : \"idx\"})\n",
    "\n",
    "if len(NaN_dict) > 0:\n",
    "    print(\"There's a pesky NaN -> {}\".format(NaN_dict))\n",
    "elif (len(NaN_dict) < 1 & len(something_is_wrong_here)) < 1: \n",
    "    print(\"Nary a NaN in sight!\")\n",
    "elif len(something_is_wrong_here) > 0: \n",
    "    print(\"Something is wrong here -> {}\".format(something_is_wrong_here))\n",
    "else:\n",
    "    print(\"Something went wrong?\")"
   ]
  },
  {
   "cell_type": "code",
   "execution_count": 572,
   "metadata": {},
   "outputs": [],
   "source": [
    "grey.to_csv(\"greymatter.csv\", index = False)"
   ]
  },
  {
   "cell_type": "markdown",
   "metadata": {},
   "source": [
    "<h2>White Matter</h2>"
   ]
  },
  {
   "cell_type": "markdown",
   "metadata": {},
   "source": [
    "Create Gender Binary (No data on Trans* or Gender Non-Binary people made available)"
   ]
  },
  {
   "cell_type": "code",
   "execution_count": 573,
   "metadata": {},
   "outputs": [],
   "source": [
    "white[\"gender\"] = white.sex.map({\"F\" : 0, \"M\" : 1})"
   ]
  },
  {
   "cell_type": "markdown",
   "metadata": {},
   "source": [
    "Create Binary for Patients History of Ever Sustaining Traumatic Brain Injury"
   ]
  },
  {
   "cell_type": "code",
   "execution_count": 574,
   "metadata": {},
   "outputs": [],
   "source": [
    "white[\"tbi_w_loc\"] = white.ever_tbi_w_loc.map({\"N\" : 0, \"Y\" : 1})"
   ]
  },
  {
   "cell_type": "markdown",
   "metadata": {},
   "source": [
    "Create Binary for Patients History of Ever Sustaining Traumatic Brain Injury"
   ]
  },
  {
   "cell_type": "code",
   "execution_count": 575,
   "metadata": {},
   "outputs": [],
   "source": [
    "white[\"white_binary\"] = white.race.map({\"Non-white\" : 0, \"White\" : 1})"
   ]
  },
  {
   "cell_type": "markdown",
   "metadata": {},
   "source": [
    "Create Binary for Race = Hispanic"
   ]
  },
  {
   "cell_type": "code",
   "execution_count": 576,
   "metadata": {},
   "outputs": [],
   "source": [
    "white[\"hispanic_binary\"] = white.hispanic.map({\"Not Hispanic\" : 0, \"Hispanic\" : 1})"
   ]
  },
  {
   "cell_type": "markdown",
   "metadata": {},
   "source": [
    "Create Binary for apo_e4_allele Genetic Trait"
   ]
  },
  {
   "cell_type": "code",
   "execution_count": 577,
   "metadata": {},
   "outputs": [],
   "source": [
    "white['apo_e4_allele_binary'] = white.apo_e4_allele.map({\"N\" : 0, \"Y\" : 1})"
   ]
  },
  {
   "cell_type": "markdown",
   "metadata": {},
   "source": [
    "Change Age Categories into Integers"
   ]
  },
  {
   "cell_type": "code",
   "execution_count": 578,
   "metadata": {},
   "outputs": [],
   "source": [
    "white[\"age\"] = white.age.map({\"87\" : 87, \n",
    "                        '95-99' : 95,\n",
    "                        '85' : 85,\n",
    "                        '90-94' : 90,\n",
    "                         '100+' : 100,\n",
    "                        '78' : 78,\n",
    "                        '89' : 89,\n",
    "                        '83' : 83,\n",
    "                        '82' : 82,\n",
    "                        '77' : 77,\n",
    "                        '81' : 81,\n",
    "                        '88' : 88,\n",
    "                        '84' : 84,\n",
    "                        '86' : 86,\n",
    "                        '79' : 79,\n",
    "                      })"
   ]
  },
  {
   "cell_type": "markdown",
   "metadata": {},
   "source": [
    "Create Numerical Categories for Patient's Loss of Consciousness Decided by Length of Loss"
   ]
  },
  {
   "cell_type": "code",
   "execution_count": 579,
   "metadata": {},
   "outputs": [],
   "source": [
    "white[\"loc_cats\"] = white.longest_loc_duration.map({\"Unknown or N/A\" : 0, \n",
    "                                              '< 10 sec' : 1,\n",
    "                                              '10 sec - 1 min' : 2,\n",
    "                                              '1-2 min' : 3,\n",
    "                                              '3-5 min' : 4,\n",
    "                                              '6-9 min' : 5,\n",
    "                                              '10 min - 1 hr' : 6,\n",
    "                                              '> 1 hr' : 7\n",
    "                                             })"
   ]
  },
  {
   "cell_type": "markdown",
   "metadata": {},
   "source": [
    "Create Feature for Number of Years Since Patient's First Traumatic Brain Injury"
   ]
  },
  {
   "cell_type": "code",
   "execution_count": 580,
   "metadata": {},
   "outputs": [],
   "source": [
    "white[\"years_since_first_tbi\"] = white['age'] - white['age_at_first_tbi']"
   ]
  },
  {
   "cell_type": "markdown",
   "metadata": {},
   "source": [
    "Create Binary for Dementia Diagnosis"
   ]
  },
  {
   "cell_type": "code",
   "execution_count": 581,
   "metadata": {},
   "outputs": [],
   "source": [
    "white[\"dementia_binary\"] = white.act_demented.map({\"No Dementia\" : 0, \"Dementia\" : 1})"
   ]
  },
  {
   "cell_type": "markdown",
   "metadata": {},
   "source": [
    "Verify No Null Values"
   ]
  },
  {
   "cell_type": "code",
   "execution_count": 582,
   "metadata": {},
   "outputs": [
    {
     "name": "stdout",
     "output_type": "stream",
     "text": [
      "Nary a NaN in sight!\n"
     ]
    }
   ],
   "source": [
    "#Verify that there's no NaN's\n",
    "NaN_dict = {}\n",
    "something_is_wrong_here = {}\n",
    "for column in df:\n",
    "    for idx, row in enumerate(column):\n",
    "        try: \n",
    "            if (df[column]).isnull().sum() > 0:\n",
    "                NaN_dict.update({\"column\" : \"idx\"})\n",
    "        except: \n",
    "            something_is_wrong_here.update({\"column\" : \"idx\"})\n",
    "\n",
    "if len(NaN_dict) > 0:\n",
    "    print(\"There's a pesky NaN -> {}\".format(NaN_dict))\n",
    "elif (len(NaN_dict) < 1 & len(something_is_wrong_here)) < 1: \n",
    "    print(\"Nary a NaN in sight!\")\n",
    "elif len(something_is_wrong_here) > 0: \n",
    "    print(\"Something is wrong here -> {}\".format(something_is_wrong_here))\n",
    "else:\n",
    "    print(\"Something went wrong?\")"
   ]
  },
  {
   "cell_type": "code",
   "execution_count": 583,
   "metadata": {},
   "outputs": [],
   "source": [
    "white.to_csv(\"whitematter.csv\", index=False)"
   ]
  },
  {
   "cell_type": "code",
   "execution_count": null,
   "metadata": {},
   "outputs": [],
   "source": []
  }
 ],
 "metadata": {
  "kernelspec": {
   "display_name": "Python 3",
   "language": "python",
   "name": "python3"
  },
  "language_info": {
   "codemirror_mode": {
    "name": "ipython",
    "version": 3
   },
   "file_extension": ".py",
   "mimetype": "text/x-python",
   "name": "python",
   "nbconvert_exporter": "python",
   "pygments_lexer": "ipython3",
   "version": "3.6.5"
  }
 },
 "nbformat": 4,
 "nbformat_minor": 2
}
